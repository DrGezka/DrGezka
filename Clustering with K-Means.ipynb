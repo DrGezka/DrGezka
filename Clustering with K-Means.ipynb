{
  "nbformat": 4,
  "nbformat_minor": 0,
  "metadata": {
    "colab": {
      "name": "Clustering Senyawa Meteor SiO2 dan Fe(t).ipynb",
      "provenance": [],
      "collapsed_sections": [],
      "authorship_tag": "ABX9TyNvwT74JZSHSQImOWZUj8vY",
      "include_colab_link": true
    },
    "kernelspec": {
      "name": "python3",
      "display_name": "Python 3"
    },
    "language_info": {
      "name": "python"
    }
  },
  "cells": [
    {
      "cell_type": "markdown",
      "metadata": {
        "id": "view-in-github",
        "colab_type": "text"
      },
      "source": [
        "<a href=\"https://colab.research.google.com/github/DrGezka/DrGezka/blob/main/Clustering%20with%20K-Means.ipynb\" target=\"_parent\"><img src=\"https://colab.research.google.com/assets/colab-badge.svg\" alt=\"Open In Colab\"/></a>"
      ]
    },
    {
      "cell_type": "code",
      "execution_count": null,
      "metadata": {
        "id": "h7ozMOTSdesn"
      },
      "outputs": [],
      "source": [
        "from sklearn.cluster import KMeans\n",
        "import pandas as pd\n",
        "import numpy as np\n",
        "import matplotlib.pyplot as plt\n",
        "from sklearn.preprocessing import MinMaxScaler"
      ]
    },
    {
      "cell_type": "code",
      "source": [
        "data = pd.read_csv('dataMeteorites.csv')\n",
        "data.head()"
      ],
      "metadata": {
        "colab": {
          "base_uri": "https://localhost:8080/",
          "height": 206
        },
        "id": "GMvAIst6dtJD",
        "outputId": "f2e11e93-8b5f-4edb-ff12-25dbecb146ab"
      },
      "execution_count": null,
      "outputs": [
        {
          "output_type": "execute_result",
          "data": {
            "text/plain": [
              "    ID        Meteorite                                               Type  \\\n",
              "0  221    Weekeroo incl  Mesosiderites and Inclusions from iron meteorites   \n",
              "1  220  Netschaevo incl  Mesosiderites and Inclusions from iron meteorites   \n",
              "2  219    El Taco3 incl  Mesosiderites and Inclusions from iron meteorites   \n",
              "3  218    El Taco2 incl  Mesosiderites and Inclusions from iron meteorites   \n",
              "4  217    El Taco1 incl  Mesosiderites and Inclusions from iron meteorites   \n",
              "\n",
              "   Code Type Class   SiO2    MgO  Fe(t)  TiO2  Al2O3  Cr2O3   MnO   CaO  P2O5  \\\n",
              "0          8   IIE  54.54  16.24   8.64  0.29   5.22   2.76  0.59  5.16  0.10   \n",
              "1          8   IIE  32.26  19.54  33.89  0.10   1.71   0.48  0.24  1.53  0.43   \n",
              "2          8   IAB  40.52  31.94   3.68  0.13   1.64   0.30  0.31  2.48  0.03   \n",
              "3          8   IAB  45.86  28.27   9.27  0.12   3.41   0.33  0.32  1.09  0.26   \n",
              "4          8   IAB  37.82  28.63   5.03  0.13   1.36   0.10  0.35  1.09  0.39   \n",
              "\n",
              "     Ni    Co  \n",
              "0  0.05  0.00  \n",
              "1  2.50  0.10  \n",
              "2  0.10  0.01  \n",
              "3  0.27  0.02  \n",
              "4  0.18  0.02  "
            ],
            "text/html": [
              "\n",
              "  <div id=\"df-5576f125-c1f8-4994-a305-e4f79883202e\">\n",
              "    <div class=\"colab-df-container\">\n",
              "      <div>\n",
              "<style scoped>\n",
              "    .dataframe tbody tr th:only-of-type {\n",
              "        vertical-align: middle;\n",
              "    }\n",
              "\n",
              "    .dataframe tbody tr th {\n",
              "        vertical-align: top;\n",
              "    }\n",
              "\n",
              "    .dataframe thead th {\n",
              "        text-align: right;\n",
              "    }\n",
              "</style>\n",
              "<table border=\"1\" class=\"dataframe\">\n",
              "  <thead>\n",
              "    <tr style=\"text-align: right;\">\n",
              "      <th></th>\n",
              "      <th>ID</th>\n",
              "      <th>Meteorite</th>\n",
              "      <th>Type</th>\n",
              "      <th>Code Type</th>\n",
              "      <th>Class</th>\n",
              "      <th>SiO2</th>\n",
              "      <th>MgO</th>\n",
              "      <th>Fe(t)</th>\n",
              "      <th>TiO2</th>\n",
              "      <th>Al2O3</th>\n",
              "      <th>Cr2O3</th>\n",
              "      <th>MnO</th>\n",
              "      <th>CaO</th>\n",
              "      <th>P2O5</th>\n",
              "      <th>Ni</th>\n",
              "      <th>Co</th>\n",
              "    </tr>\n",
              "  </thead>\n",
              "  <tbody>\n",
              "    <tr>\n",
              "      <th>0</th>\n",
              "      <td>221</td>\n",
              "      <td>Weekeroo incl</td>\n",
              "      <td>Mesosiderites and Inclusions from iron meteorites</td>\n",
              "      <td>8</td>\n",
              "      <td>IIE</td>\n",
              "      <td>54.54</td>\n",
              "      <td>16.24</td>\n",
              "      <td>8.64</td>\n",
              "      <td>0.29</td>\n",
              "      <td>5.22</td>\n",
              "      <td>2.76</td>\n",
              "      <td>0.59</td>\n",
              "      <td>5.16</td>\n",
              "      <td>0.10</td>\n",
              "      <td>0.05</td>\n",
              "      <td>0.00</td>\n",
              "    </tr>\n",
              "    <tr>\n",
              "      <th>1</th>\n",
              "      <td>220</td>\n",
              "      <td>Netschaevo incl</td>\n",
              "      <td>Mesosiderites and Inclusions from iron meteorites</td>\n",
              "      <td>8</td>\n",
              "      <td>IIE</td>\n",
              "      <td>32.26</td>\n",
              "      <td>19.54</td>\n",
              "      <td>33.89</td>\n",
              "      <td>0.10</td>\n",
              "      <td>1.71</td>\n",
              "      <td>0.48</td>\n",
              "      <td>0.24</td>\n",
              "      <td>1.53</td>\n",
              "      <td>0.43</td>\n",
              "      <td>2.50</td>\n",
              "      <td>0.10</td>\n",
              "    </tr>\n",
              "    <tr>\n",
              "      <th>2</th>\n",
              "      <td>219</td>\n",
              "      <td>El Taco3 incl</td>\n",
              "      <td>Mesosiderites and Inclusions from iron meteorites</td>\n",
              "      <td>8</td>\n",
              "      <td>IAB</td>\n",
              "      <td>40.52</td>\n",
              "      <td>31.94</td>\n",
              "      <td>3.68</td>\n",
              "      <td>0.13</td>\n",
              "      <td>1.64</td>\n",
              "      <td>0.30</td>\n",
              "      <td>0.31</td>\n",
              "      <td>2.48</td>\n",
              "      <td>0.03</td>\n",
              "      <td>0.10</td>\n",
              "      <td>0.01</td>\n",
              "    </tr>\n",
              "    <tr>\n",
              "      <th>3</th>\n",
              "      <td>218</td>\n",
              "      <td>El Taco2 incl</td>\n",
              "      <td>Mesosiderites and Inclusions from iron meteorites</td>\n",
              "      <td>8</td>\n",
              "      <td>IAB</td>\n",
              "      <td>45.86</td>\n",
              "      <td>28.27</td>\n",
              "      <td>9.27</td>\n",
              "      <td>0.12</td>\n",
              "      <td>3.41</td>\n",
              "      <td>0.33</td>\n",
              "      <td>0.32</td>\n",
              "      <td>1.09</td>\n",
              "      <td>0.26</td>\n",
              "      <td>0.27</td>\n",
              "      <td>0.02</td>\n",
              "    </tr>\n",
              "    <tr>\n",
              "      <th>4</th>\n",
              "      <td>217</td>\n",
              "      <td>El Taco1 incl</td>\n",
              "      <td>Mesosiderites and Inclusions from iron meteorites</td>\n",
              "      <td>8</td>\n",
              "      <td>IAB</td>\n",
              "      <td>37.82</td>\n",
              "      <td>28.63</td>\n",
              "      <td>5.03</td>\n",
              "      <td>0.13</td>\n",
              "      <td>1.36</td>\n",
              "      <td>0.10</td>\n",
              "      <td>0.35</td>\n",
              "      <td>1.09</td>\n",
              "      <td>0.39</td>\n",
              "      <td>0.18</td>\n",
              "      <td>0.02</td>\n",
              "    </tr>\n",
              "  </tbody>\n",
              "</table>\n",
              "</div>\n",
              "      <button class=\"colab-df-convert\" onclick=\"convertToInteractive('df-5576f125-c1f8-4994-a305-e4f79883202e')\"\n",
              "              title=\"Convert this dataframe to an interactive table.\"\n",
              "              style=\"display:none;\">\n",
              "        \n",
              "  <svg xmlns=\"http://www.w3.org/2000/svg\" height=\"24px\"viewBox=\"0 0 24 24\"\n",
              "       width=\"24px\">\n",
              "    <path d=\"M0 0h24v24H0V0z\" fill=\"none\"/>\n",
              "    <path d=\"M18.56 5.44l.94 2.06.94-2.06 2.06-.94-2.06-.94-.94-2.06-.94 2.06-2.06.94zm-11 1L8.5 8.5l.94-2.06 2.06-.94-2.06-.94L8.5 2.5l-.94 2.06-2.06.94zm10 10l.94 2.06.94-2.06 2.06-.94-2.06-.94-.94-2.06-.94 2.06-2.06.94z\"/><path d=\"M17.41 7.96l-1.37-1.37c-.4-.4-.92-.59-1.43-.59-.52 0-1.04.2-1.43.59L10.3 9.45l-7.72 7.72c-.78.78-.78 2.05 0 2.83L4 21.41c.39.39.9.59 1.41.59.51 0 1.02-.2 1.41-.59l7.78-7.78 2.81-2.81c.8-.78.8-2.07 0-2.86zM5.41 20L4 18.59l7.72-7.72 1.47 1.35L5.41 20z\"/>\n",
              "  </svg>\n",
              "      </button>\n",
              "      \n",
              "  <style>\n",
              "    .colab-df-container {\n",
              "      display:flex;\n",
              "      flex-wrap:wrap;\n",
              "      gap: 12px;\n",
              "    }\n",
              "\n",
              "    .colab-df-convert {\n",
              "      background-color: #E8F0FE;\n",
              "      border: none;\n",
              "      border-radius: 50%;\n",
              "      cursor: pointer;\n",
              "      display: none;\n",
              "      fill: #1967D2;\n",
              "      height: 32px;\n",
              "      padding: 0 0 0 0;\n",
              "      width: 32px;\n",
              "    }\n",
              "\n",
              "    .colab-df-convert:hover {\n",
              "      background-color: #E2EBFA;\n",
              "      box-shadow: 0px 1px 2px rgba(60, 64, 67, 0.3), 0px 1px 3px 1px rgba(60, 64, 67, 0.15);\n",
              "      fill: #174EA6;\n",
              "    }\n",
              "\n",
              "    [theme=dark] .colab-df-convert {\n",
              "      background-color: #3B4455;\n",
              "      fill: #D2E3FC;\n",
              "    }\n",
              "\n",
              "    [theme=dark] .colab-df-convert:hover {\n",
              "      background-color: #434B5C;\n",
              "      box-shadow: 0px 1px 3px 1px rgba(0, 0, 0, 0.15);\n",
              "      filter: drop-shadow(0px 1px 2px rgba(0, 0, 0, 0.3));\n",
              "      fill: #FFFFFF;\n",
              "    }\n",
              "  </style>\n",
              "\n",
              "      <script>\n",
              "        const buttonEl =\n",
              "          document.querySelector('#df-5576f125-c1f8-4994-a305-e4f79883202e button.colab-df-convert');\n",
              "        buttonEl.style.display =\n",
              "          google.colab.kernel.accessAllowed ? 'block' : 'none';\n",
              "\n",
              "        async function convertToInteractive(key) {\n",
              "          const element = document.querySelector('#df-5576f125-c1f8-4994-a305-e4f79883202e');\n",
              "          const dataTable =\n",
              "            await google.colab.kernel.invokeFunction('convertToInteractive',\n",
              "                                                     [key], {});\n",
              "          if (!dataTable) return;\n",
              "\n",
              "          const docLinkHtml = 'Like what you see? Visit the ' +\n",
              "            '<a target=\"_blank\" href=https://colab.research.google.com/notebooks/data_table.ipynb>data table notebook</a>'\n",
              "            + ' to learn more about interactive tables.';\n",
              "          element.innerHTML = '';\n",
              "          dataTable['output_type'] = 'display_data';\n",
              "          await google.colab.output.renderOutput(dataTable, element);\n",
              "          const docLink = document.createElement('div');\n",
              "          docLink.innerHTML = docLinkHtml;\n",
              "          element.appendChild(docLink);\n",
              "        }\n",
              "      </script>\n",
              "    </div>\n",
              "  </div>\n",
              "  "
            ]
          },
          "metadata": {},
          "execution_count": 6
        }
      ]
    },
    {
      "cell_type": "code",
      "source": [
        "x_ = data['SiO2']\n",
        "y_ = data['Fe(t)']\n",
        "label = data['Code Type']\n",
        "plt.scatter(x_, y_, c = label, cmap='plasma')"
      ],
      "metadata": {
        "colab": {
          "base_uri": "https://localhost:8080/",
          "height": 282
        },
        "id": "UKf31K4Ydt_f",
        "outputId": "28e3ff98-b2a5-42af-edbc-c1dcec4c4bff"
      },
      "execution_count": null,
      "outputs": [
        {
          "output_type": "execute_result",
          "data": {
            "text/plain": [
              "<matplotlib.collections.PathCollection at 0x7fa2c6ddac10>"
            ]
          },
          "metadata": {},
          "execution_count": 7
        },
        {
          "output_type": "display_data",
          "data": {
            "text/plain": [
              "<Figure size 432x288 with 1 Axes>"
            ],
            "image/png": "[encoded data removed]"
          },
          "metadata": {
            "needs_background": "light"
          }
        }
      ]
    },
    {
      "cell_type": "code",
      "source": [
        "from sklearn.cluster import KMeans\n",
        "from sklearn.preprocessing import StandardScaler\n",
        "\n"
      ],
      "metadata": {
        "id": "rmR6bzOcdt9R"
      },
      "execution_count": null,
      "outputs": []
    },
    {
      "cell_type": "code",
      "source": [
        "x = data[['SiO2','Fe(t)']]\n",
        "y = data['Code Type']\n",
        "x.head()"
      ],
      "metadata": {
        "colab": {
          "base_uri": "https://localhost:8080/",
          "height": 206
        },
        "id": "aQPSiowzdyk0",
        "outputId": "935b8d99-bcf4-445d-966a-3d6186792e00"
      },
      "execution_count": null,
      "outputs": [
        {
          "output_type": "execute_result",
          "data": {
            "text/plain": [
              "    SiO2  Fe(t)\n",
              "0  54.54   8.64\n",
              "1  32.26  33.89\n",
              "2  40.52   3.68\n",
              "3  45.86   9.27\n",
              "4  37.82   5.03"
            ],
            "text/html": [
              "\n",
              "  <div id=\"df-35e83a3e-2cde-47ff-abe6-cdebfdab9b41\">\n",
              "    <div class=\"colab-df-container\">\n",
              "      <div>\n",
              "<style scoped>\n",
              "    .dataframe tbody tr th:only-of-type {\n",
              "        vertical-align: middle;\n",
              "    }\n",
              "\n",
              "    .dataframe tbody tr th {\n",
              "        vertical-align: top;\n",
              "    }\n",
              "\n",
              "    .dataframe thead th {\n",
              "        text-align: right;\n",
              "    }\n",
              "</style>\n",
              "<table border=\"1\" class=\"dataframe\">\n",
              "  <thead>\n",
              "    <tr style=\"text-align: right;\">\n",
              "      <th></th>\n",
              "      <th>SiO2</th>\n",
              "      <th>Fe(t)</th>\n",
              "    </tr>\n",
              "  </thead>\n",
              "  <tbody>\n",
              "    <tr>\n",
              "      <th>0</th>\n",
              "      <td>54.54</td>\n",
              "      <td>8.64</td>\n",
              "    </tr>\n",
              "    <tr>\n",
              "      <th>1</th>\n",
              "      <td>32.26</td>\n",
              "      <td>33.89</td>\n",
              "    </tr>\n",
              "    <tr>\n",
              "      <th>2</th>\n",
              "      <td>40.52</td>\n",
              "      <td>3.68</td>\n",
              "    </tr>\n",
              "    <tr>\n",
              "      <th>3</th>\n",
              "      <td>45.86</td>\n",
              "      <td>9.27</td>\n",
              "    </tr>\n",
              "    <tr>\n",
              "      <th>4</th>\n",
              "      <td>37.82</td>\n",
              "      <td>5.03</td>\n",
              "    </tr>\n",
              "  </tbody>\n",
              "</table>\n",
              "</div>\n",
              "      <button class=\"colab-df-convert\" onclick=\"convertToInteractive('df-35e83a3e-2cde-47ff-abe6-cdebfdab9b41')\"\n",
              "              title=\"Convert this dataframe to an interactive table.\"\n",
              "              style=\"display:none;\">\n",
              "        \n",
              "  <svg xmlns=\"http://www.w3.org/2000/svg\" height=\"24px\"viewBox=\"0 0 24 24\"\n",
              "       width=\"24px\">\n",
              "    <path d=\"M0 0h24v24H0V0z\" fill=\"none\"/>\n",
              "    <path d=\"M18.56 5.44l.94 2.06.94-2.06 2.06-.94-2.06-.94-.94-2.06-.94 2.06-2.06.94zm-11 1L8.5 8.5l.94-2.06 2.06-.94-2.06-.94L8.5 2.5l-.94 2.06-2.06.94zm10 10l.94 2.06.94-2.06 2.06-.94-2.06-.94-.94-2.06-.94 2.06-2.06.94z\"/><path d=\"M17.41 7.96l-1.37-1.37c-.4-.4-.92-.59-1.43-.59-.52 0-1.04.2-1.43.59L10.3 9.45l-7.72 7.72c-.78.78-.78 2.05 0 2.83L4 21.41c.39.39.9.59 1.41.59.51 0 1.02-.2 1.41-.59l7.78-7.78 2.81-2.81c.8-.78.8-2.07 0-2.86zM5.41 20L4 18.59l7.72-7.72 1.47 1.35L5.41 20z\"/>\n",
              "  </svg>\n",
              "      </button>\n",
              "      \n",
              "  <style>\n",
              "    .colab-df-container {\n",
              "      display:flex;\n",
              "      flex-wrap:wrap;\n",
              "      gap: 12px;\n",
              "    }\n",
              "\n",
              "    .colab-df-convert {\n",
              "      background-color: #E8F0FE;\n",
              "      border: none;\n",
              "      border-radius: 50%;\n",
              "      cursor: pointer;\n",
              "      display: none;\n",
              "      fill: #1967D2;\n",
              "      height: 32px;\n",
              "      padding: 0 0 0 0;\n",
              "      width: 32px;\n",
              "    }\n",
              "\n",
              "    .colab-df-convert:hover {\n",
              "      background-color: #E2EBFA;\n",
              "      box-shadow: 0px 1px 2px rgba(60, 64, 67, 0.3), 0px 1px 3px 1px rgba(60, 64, 67, 0.15);\n",
              "      fill: #174EA6;\n",
              "    }\n",
              "\n",
              "    [theme=dark] .colab-df-convert {\n",
              "      background-color: #3B4455;\n",
              "      fill: #D2E3FC;\n",
              "    }\n",
              "\n",
              "    [theme=dark] .colab-df-convert:hover {\n",
              "      background-color: #434B5C;\n",
              "      box-shadow: 0px 1px 3px 1px rgba(0, 0, 0, 0.15);\n",
              "      filter: drop-shadow(0px 1px 2px rgba(0, 0, 0, 0.3));\n",
              "      fill: #FFFFFF;\n",
              "    }\n",
              "  </style>\n",
              "\n",
              "      <script>\n",
              "        const buttonEl =\n",
              "          document.querySelector('#df-35e83a3e-2cde-47ff-abe6-cdebfdab9b41 button.colab-df-convert');\n",
              "        buttonEl.style.display =\n",
              "          google.colab.kernel.accessAllowed ? 'block' : 'none';\n",
              "\n",
              "        async function convertToInteractive(key) {\n",
              "          const element = document.querySelector('#df-35e83a3e-2cde-47ff-abe6-cdebfdab9b41');\n",
              "          const dataTable =\n",
              "            await google.colab.kernel.invokeFunction('convertToInteractive',\n",
              "                                                     [key], {});\n",
              "          if (!dataTable) return;\n",
              "\n",
              "          const docLinkHtml = 'Like what you see? Visit the ' +\n",
              "            '<a target=\"_blank\" href=https://colab.research.google.com/notebooks/data_table.ipynb>data table notebook</a>'\n",
              "            + ' to learn more about interactive tables.';\n",
              "          element.innerHTML = '';\n",
              "          dataTable['output_type'] = 'display_data';\n",
              "          await google.colab.output.renderOutput(dataTable, element);\n",
              "          const docLink = document.createElement('div');\n",
              "          docLink.innerHTML = docLinkHtml;\n",
              "          element.appendChild(docLink);\n",
              "        }\n",
              "      </script>\n",
              "    </div>\n",
              "  </div>\n",
              "  "
            ]
          },
          "metadata": {},
          "execution_count": 5
        }
      ]
    },
    {
      "cell_type": "code",
      "source": [
        "from sklearn import linear_model\n",
        "from sklearn.model_selection import train_test_split"
      ],
      "metadata": {
        "id": "hVGlVdOidyiP"
      },
      "execution_count": null,
      "outputs": []
    },
    {
      "cell_type": "code",
      "source": [
        "scaler = StandardScaler()\n",
        "scaledX = scaler.fit_transform(x)\n",
        "scaledX[:5]"
      ],
      "metadata": {
        "colab": {
          "base_uri": "https://localhost:8080/"
        },
        "id": "Jw2Fo8jJdyfN",
        "outputId": "a046f833-ad3a-499d-88f2-4eae2873cf39"
      },
      "execution_count": null,
      "outputs": [
        {
          "output_type": "execute_result",
          "data": {
            "text/plain": [
              "array([[ 2.94330426, -1.82369575],\n",
              "       [-1.18447759,  1.63964423],\n",
              "       [ 0.34584009, -2.50401917],\n",
              "       [ 1.33517381, -1.7372837 ],\n",
              "       [-0.15438482, -2.3188505 ]])"
            ]
          },
          "metadata": {},
          "execution_count": 7
        }
      ]
    },
    {
      "cell_type": "code",
      "source": [
        "from pandas.core.common import random_state\n",
        "sse = []\n",
        "index = range(1, 10)\n",
        "for i in index:\n",
        "  kmeans = KMeans(n_clusters=i, random_state=30)\n",
        "  kmeans.fit(x)\n",
        "  sse_ = kmeans.inertia_\n",
        "  sse.append(sse_)\n",
        "  print(i, sse_)"
      ],
      "metadata": {
        "colab": {
          "base_uri": "https://localhost:8080/"
        },
        "id": "jTV3iOcxdycS",
        "outputId": "3e8f0f54-1989-42e1-da81-a5ec7f9f5119"
      },
      "execution_count": null,
      "outputs": [
        {
          "output_type": "stream",
          "name": "stdout",
          "text": [
            "1 18185.507223529414\n",
            "2 11533.853389861755\n",
            "3 6086.945261098901\n",
            "4 3926.58986337451\n",
            "5 3007.840037642723\n",
            "6 2330.443021834546\n",
            "7 1707.1342551127368\n",
            "8 1407.4243623890827\n",
            "9 1169.190105820106\n"
          ]
        }
      ]
    },
    {
      "cell_type": "code",
      "source": [
        "plt.plot(index, sse)\n",
        "plt.show()"
      ],
      "metadata": {
        "colab": {
          "base_uri": "https://localhost:8080/",
          "height": 265
        },
        "id": "DvVrxbYEdyZV",
        "outputId": "db7bb8de-da2a-4acd-bd08-8c12d941c396"
      },
      "execution_count": null,
      "outputs": [
        {
          "output_type": "display_data",
          "data": {
            "text/plain": [
              "<Figure size 432x288 with 1 Axes>"
            ],
            "image/png": "[encoded data removed]"
          },
          "metadata": {
            "needs_background": "light"
          }
        }
      ]
    },
    {
      "cell_type": "code",
      "source": [
        "from sklearn import metrics\n",
        "rand = []\n",
        "index = range(1, 10)\n",
        "for i in index:\n",
        "  kmeans = KMeans(n_clusters=i, random_state=30)\n",
        "  kmeans.fit(x)\n",
        "  rand_ = metrics.adjusted_rand_score(y, kmeans.labels_)\n",
        "  rand.append(rand_)\n",
        "  print(i, rand_)"
      ],
      "metadata": {
        "colab": {
          "base_uri": "https://localhost:8080/"
        },
        "id": "ljkcXPzFdyWp",
        "outputId": "a01823bd-730a-4e25-a783-c84b58a9d2f4"
      },
      "execution_count": null,
      "outputs": [
        {
          "output_type": "stream",
          "name": "stdout",
          "text": [
            "1 0.0\n",
            "2 0.016264214420735248\n",
            "3 0.1746208991452667\n",
            "4 0.5331920790850503\n",
            "5 0.5229342281600915\n",
            "6 0.5660570809633487\n",
            "7 0.5553134951801936\n",
            "8 0.6023259951723389\n",
            "9 0.6211725912212795\n"
          ]
        }
      ]
    },
    {
      "cell_type": "code",
      "source": [
        "plt.plot(index, rand)\n",
        "plt.show()"
      ],
      "metadata": {
        "colab": {
          "base_uri": "https://localhost:8080/",
          "height": 265
        },
        "id": "HgrKv7NVd_KT",
        "outputId": "fd7c9498-e351-4505-f70c-8da2694c9737"
      },
      "execution_count": null,
      "outputs": [
        {
          "output_type": "display_data",
          "data": {
            "text/plain": [
              "<Figure size 432x288 with 1 Axes>"
            ],
            "image/png": "[encoded data removed]"
          },
          "metadata": {
            "needs_background": "light"
          }
        }
      ]
    },
    {
      "cell_type": "code",
      "source": [
        "kmeans = KMeans(n_clusters=9, random_state=30)\n",
        "kmeans.fit(x)\n",
        "y_kmeans = kmeans.fit_predict(x)"
      ],
      "metadata": {
        "id": "96hqdixuelmp"
      },
      "execution_count": null,
      "outputs": []
    },
    {
      "cell_type": "code",
      "source": [
        "kmeans.labels_"
      ],
      "metadata": {
        "colab": {
          "base_uri": "https://localhost:8080/"
        },
        "id": "NH-wG-WOeCU8",
        "outputId": "c115a790-1bf0-4253-9119-27daa0066118"
      },
      "execution_count": null,
      "outputs": [
        {
          "output_type": "execute_result",
          "data": {
            "text/plain": [
              "array([4, 1, 7, 4, 7, 2, 3, 4, 3, 1, 3, 1, 0, 0, 0, 0, 4, 4, 4, 0, 0, 4,\n",
              "       4, 4, 4, 4, 4, 4, 4, 4, 4, 4, 4, 4, 4, 4, 6, 0, 2, 2, 2, 1, 2, 1,\n",
              "       1, 2, 2, 2, 2, 0, 0, 1, 2, 0, 2, 2, 2, 2, 2, 2, 2, 2, 2, 2, 2, 2,\n",
              "       2, 2, 2, 2, 2, 2, 2, 2, 2, 2, 2, 2, 2, 2, 2, 2, 2, 2, 2, 2, 2, 2,\n",
              "       2, 2, 2, 2, 2, 2, 2, 2, 2, 2, 2, 2, 2, 2, 2, 2, 2, 2, 2, 2, 2, 2,\n",
              "       2, 2, 2, 2, 2, 2, 2, 2, 2, 2, 2, 2, 2, 2, 2, 2, 2, 2, 2, 2, 2, 2,\n",
              "       2, 2, 2, 2, 2, 2, 2, 2, 2, 2, 2, 2, 2, 2, 2, 2, 2, 2, 2, 2, 8, 1,\n",
              "       1, 1, 1, 1, 1, 8, 8, 1, 1, 1, 1, 1, 8, 1, 1, 1, 1, 1, 1, 1, 1, 1,\n",
              "       1, 1, 1, 1, 1, 1, 1, 1, 8, 1, 1, 1, 1, 1, 8, 0, 8, 1, 8, 1, 8, 8,\n",
              "       8, 8, 8, 8, 8, 8, 0, 7, 7, 8, 8, 8, 8, 8, 5, 5, 5, 5, 5, 5, 5, 5,\n",
              "       5], dtype=int32)"
            ]
          },
          "metadata": {},
          "execution_count": 15
        }
      ]
    },
    {
      "cell_type": "code",
      "source": [
        "x_ = data['SiO2']\n",
        "y_ = data['Fe(t)']\n",
        "label = kmeans.labels_\n",
        "plt.scatter(x_, y_, c = label, cmap='plasma')"
      ],
      "metadata": {
        "colab": {
          "base_uri": "https://localhost:8080/",
          "height": 282
        },
        "id": "sEAa7sa3eCNj",
        "outputId": "d8d5579d-e4e2-4ec9-dba6-1f6e4582716a"
      },
      "execution_count": null,
      "outputs": [
        {
          "output_type": "execute_result",
          "data": {
            "text/plain": [
              "<matplotlib.collections.PathCollection at 0x7f256da36410>"
            ]
          },
          "metadata": {},
          "execution_count": 26
        },
        {
          "output_type": "display_data",
          "data": {
            "text/plain": [
              "<Figure size 432x288 with 1 Axes>"
            ],
            "image/png": "[encoded data removed]"
          },
          "metadata": {
            "needs_background": "light"
          }
        }
      ]
    },
    {
      "cell_type": "code",
      "source": [
        ""
      ],
      "metadata": {
        "id": "7CUhs85VR4Zz"
      },
      "execution_count": null,
      "outputs": []
    }
  ]
}